{
 "cells": [
  {
   "cell_type": "code",
   "execution_count": null,
   "metadata": {},
   "outputs": [],
   "source": [
    "name = \"John Doe\"\n",
    "specials = \"ᵴᶑᵯḜἍ\"\n",
    "us_number = \"579-974-2803\"\n",
    "intl_number = \"+62 (008) 713-0014\"\n",
    "\n",
    "def show_ord(s):\n",
    "    print(\"=\".ljust(30, \"=\"))\n",
    "    for c in s:\n",
    "        print(\"Char: {}, Ord: {}, Hex: {}\".format(c, ord(c), hex(ord(c))))\n",
    "        \n",
    "show_ord(name)\n",
    "show_ord(specials)\n",
    "show_ord(us_number)\n",
    "show_ord(intl_number)"
   ]
  },
  {
   "cell_type": "code",
   "execution_count": null,
   "metadata": {},
   "outputs": [],
   "source": [
    "print(us_number)\n",
    "print(us_number.ljust(30, 's'))"
   ]
  },
  {
   "cell_type": "code",
   "execution_count": null,
   "metadata": {},
   "outputs": [],
   "source": [
    "def mute_specials(s, pad_length=30):\n",
    "    padded = s.ljust(pad_length, \"~\")\n",
    "    result = [ord(c) if ord(c) < 126 else 1 for c in padded]\n",
    "    return result\n",
    "    \n",
    "print(mute_specials(specials))\n",
    "print(mute_specials(name))\n",
    "print(mute_specials(us_number))\n",
    "print(mute_specials(intl_number))"
   ]
  },
  {
   "cell_type": "code",
   "execution_count": null,
   "metadata": {},
   "outputs": [],
   "source": [
    "from pydatagen.functions import rpad\n",
    "\n",
    "rpad(specials, length=10, pad_char=\"#\")"
   ]
  },
  {
   "cell_type": "code",
   "execution_count": null,
   "metadata": {},
   "outputs": [],
   "source": [
    "from pydatagen.functions import textify"
   ]
  },
  {
   "cell_type": "code",
   "execution_count": null,
   "metadata": {},
   "outputs": [],
   "source": [
    "textify(specials, length=10, pad_char=\"#\")"
   ]
  },
  {
   "cell_type": "code",
   "execution_count": null,
   "metadata": {},
   "outputs": [],
   "source": [
    "import torch\n",
    "# import torch.Tensor\n",
    "\n",
    "torch.tensor(textify(name, length=20, pad_char='~')).float()/128"
   ]
  },
  {
   "cell_type": "code",
   "execution_count": null,
   "metadata": {},
   "outputs": [],
   "source": [
    "import pandas as pd\n",
    "\n",
    "raw = pd.read_csv(\"../datagen/small_phone_number_sample.csv\")\n"
   ]
  },
  {
   "cell_type": "code",
   "execution_count": null,
   "metadata": {},
   "outputs": [],
   "source": [
    "raw.head(10)"
   ]
  },
  {
   "cell_type": "code",
   "execution_count": null,
   "metadata": {},
   "outputs": [],
   "source": [
    "raw.info()"
   ]
  },
  {
   "cell_type": "code",
   "execution_count": null,
   "metadata": {},
   "outputs": [],
   "source": [
    "column_split = {name : raw[[name]] for name in raw.columns}\n",
    "\n",
    "l = column_split[\"locale\"]\n",
    "# l[\"is_name\"] = [0]*(l.size)\n",
    "l[\"is_name\"] = 0\n",
    "print(l.info)"
   ]
  },
  {
   "cell_type": "code",
   "execution_count": null,
   "metadata": {},
   "outputs": [],
   "source": [
    "raw[\"is_phone\"] = 0\n"
   ]
  },
  {
   "cell_type": "code",
   "execution_count": null,
   "metadata": {},
   "outputs": [],
   "source": [
    "melted = raw.melt(id_vars=['is_phone'], value_vars=['locale','name','language','phone','license','address','city','country'])"
   ]
  },
  {
   "cell_type": "code",
   "execution_count": null,
   "metadata": {},
   "outputs": [],
   "source": [
    "melted.loc[melted['variable'] == 'phone', 'is_phone'] = 1"
   ]
  },
  {
   "cell_type": "code",
   "execution_count": null,
   "metadata": {},
   "outputs": [],
   "source": [
    "print(\"Melted has {} rows.\".format(melted.size))\n",
    "print(\"Without duplicates it has {} rows.\".format(melted.drop_duplicates().size))"
   ]
  },
  {
   "cell_type": "code",
   "execution_count": null,
   "metadata": {},
   "outputs": [],
   "source": [
    "melted[['is_phone','variable']].drop_duplicates()"
   ]
  },
  {
   "cell_type": "code",
   "execution_count": null,
   "metadata": {},
   "outputs": [],
   "source": []
  }
 ],
 "metadata": {
  "kernelspec": {
   "display_name": "Python 3",
   "language": "python",
   "name": "python3"
  }
 },
 "nbformat": 4,
 "nbformat_minor": 4
}
