{
 "cells": [
  {
   "cell_type": "code",
   "execution_count": null,
   "metadata": {},
   "outputs": [
    {
     "name": "stdout",
     "output_type": "stream",
     "text": [
      "pydatagen                          0.3.0\n"
     ]
    }
   ],
   "source": [
    "%%bash\n",
    "\n",
    "pip list | grep pydatagen\n",
    "\n"
   ]
  },
  {
   "cell_type": "code",
   "execution_count": null,
   "metadata": {},
   "outputs": [],
   "source": [
    "%run nnclassifier.py"
   ]
  },
  {
   "cell_type": "code",
   "execution_count": null,
   "metadata": {},
   "outputs": [],
   "source": [
    "%run doc.py"
   ]
  },
  {
   "cell_type": "code",
   "execution_count": null,
   "metadata": {},
   "outputs": [],
   "source": [
    "td = dfutil.labeled_kv('../datagen/small_id_sample.csv')"
   ]
  },
  {
   "cell_type": "code",
   "execution_count": null,
   "metadata": {},
   "outputs": [
    {
     "data": {
      "text/html": [
       "<div>\n",
       "<style scoped>\n",
       "    .dataframe tbody tr th:only-of-type {\n",
       "        vertical-align: middle;\n",
       "    }\n",
       "\n",
       "    .dataframe tbody tr th {\n",
       "        vertical-align: top;\n",
       "    }\n",
       "\n",
       "    .dataframe thead th {\n",
       "        text-align: right;\n",
       "    }\n",
       "</style>\n",
       "<table border=\"1\" class=\"dataframe\">\n",
       "  <thead>\n",
       "    <tr style=\"text-align: right;\">\n",
       "      <th></th>\n",
       "      <th>label</th>\n",
       "      <th>key</th>\n",
       "      <th>val</th>\n",
       "    </tr>\n",
       "  </thead>\n",
       "  <tbody>\n",
       "    <tr>\n",
       "      <th>0</th>\n",
       "      <td>0</td>\n",
       "      <td>casenumber</td>\n",
       "      <td>T9VX8PN</td>\n",
       "    </tr>\n",
       "    <tr>\n",
       "      <th>1</th>\n",
       "      <td>1</td>\n",
       "      <td>id</td>\n",
       "      <td>IX138774</td>\n",
       "    </tr>\n",
       "    <tr>\n",
       "      <th>2</th>\n",
       "      <td>0</td>\n",
       "      <td>phone</td>\n",
       "      <td>29689614910</td>\n",
       "    </tr>\n",
       "    <tr>\n",
       "      <th>3</th>\n",
       "      <td>0</td>\n",
       "      <td>casenumber</td>\n",
       "      <td>8WC9D3Z</td>\n",
       "    </tr>\n",
       "    <tr>\n",
       "      <th>4</th>\n",
       "      <td>1</td>\n",
       "      <td>id</td>\n",
       "      <td>XA032657</td>\n",
       "    </tr>\n",
       "    <tr>\n",
       "      <th>...</th>\n",
       "      <td>...</td>\n",
       "      <td>...</td>\n",
       "      <td>...</td>\n",
       "    </tr>\n",
       "    <tr>\n",
       "      <th>295</th>\n",
       "      <td>1</td>\n",
       "      <td>id</td>\n",
       "      <td>JH558491</td>\n",
       "    </tr>\n",
       "    <tr>\n",
       "      <th>296</th>\n",
       "      <td>0</td>\n",
       "      <td>phone</td>\n",
       "      <td>2081555</td>\n",
       "    </tr>\n",
       "    <tr>\n",
       "      <th>297</th>\n",
       "      <td>0</td>\n",
       "      <td>casenumber</td>\n",
       "      <td>BURO1U</td>\n",
       "    </tr>\n",
       "    <tr>\n",
       "      <th>298</th>\n",
       "      <td>1</td>\n",
       "      <td>id</td>\n",
       "      <td>KX098558</td>\n",
       "    </tr>\n",
       "    <tr>\n",
       "      <th>299</th>\n",
       "      <td>0</td>\n",
       "      <td>phone</td>\n",
       "      <td>7789825996</td>\n",
       "    </tr>\n",
       "  </tbody>\n",
       "</table>\n",
       "<p>300 rows × 3 columns</p>\n",
       "</div>"
      ],
      "text/plain": [
       "     label         key          val\n",
       "0        0  casenumber      T9VX8PN\n",
       "1        1          id     IX138774\n",
       "2        0       phone  29689614910\n",
       "3        0  casenumber      8WC9D3Z\n",
       "4        1          id     XA032657\n",
       "..     ...         ...          ...\n",
       "295      1          id     JH558491\n",
       "296      0       phone      2081555\n",
       "297      0  casenumber       BURO1U\n",
       "298      1          id     KX098558\n",
       "299      0       phone   7789825996\n",
       "\n",
       "[300 rows x 3 columns]"
      ]
     },
     "execution_count": null,
     "metadata": {},
     "output_type": "execute_result"
    }
   ],
   "source": [
    "td"
   ]
  },
  {
   "cell_type": "code",
   "execution_count": null,
   "metadata": {},
   "outputs": [],
   "source": [
    "import torch\n",
    "from torch import nn\n",
    "\n",
    "dd = DocPipeline()\n",
    "traindl, validdl = dd.create_training_data(td, 'val', 'label')\n",
    "\n",
    "model = nn.Sequential(\n",
    "  nn.Linear(36, 36),\n",
    "  nn.ReLU(),\n",
    "  nn.Linear(36, 72),\n",
    "  nn.Dropout(p=0.2),\n",
    "  nn.Linear(72, 36),\n",
    "  nn.Dropout(p=0.2),\n",
    "  nn.Linear(36, 12),\n",
    "  nn.ReLU(),\n",
    "  nn.Linear(12, 1)\n",
    ")\n",
    "\n",
    "loss_fn = nn.BCEWithLogitsLoss(reduction='mean')\n",
    "optimizer = torch.optim.SGD(model.parameters(), lr=0.1)\n",
    "\n",
    "classifier = NNClassifier(model, loss_fn, optimizer)\n",
    "\n",
    "classifier.set_loaders(traindl, validdl)\n"
   ]
  },
  {
   "cell_type": "code",
   "execution_count": null,
   "metadata": {},
   "outputs": [
    {
     "name": "stdout",
     "output_type": "stream",
     "text": [
      "epoch           train_loss      valid_loss      seconds         \n",
      "0               0.7299          0.7248          0.2684          \n",
      "1               0.7227          0.7161          0.0059          \n",
      "2               0.7131          0.7078          0.0058          \n",
      "3               0.7059          0.7000          0.0057          \n",
      "4               0.6989          0.6924          0.0056          \n",
      "5               0.6940          0.6850          0.0056          \n",
      "6               0.6871          0.6778          0.0055          \n",
      "7               0.6797          0.6706          0.0057          \n",
      "8               0.6731          0.6635          0.0056          \n",
      "9               0.6673          0.6565          0.0058          \n",
      "10              0.6622          0.6495          0.0054          \n",
      "11              0.6566          0.6426          0.0055          \n",
      "12              0.6497          0.6356          0.0055          \n",
      "13              0.6408          0.6284          0.0056          \n",
      "14              0.6379          0.6212          0.0053          \n",
      "15              0.6300          0.6138          0.0055          \n",
      "16              0.6238          0.6062          0.0055          \n",
      "17              0.6158          0.5981          0.0054          \n",
      "18              0.6084          0.5897          0.0057          \n",
      "19              0.6015          0.5809          0.0055          \n",
      "20              0.5931          0.5715          0.0054          \n",
      "21              0.5851          0.5616          0.0055          \n",
      "22              0.5755          0.5508          0.0053          \n",
      "23              0.5672          0.5394          0.0057          \n",
      "24              0.5531          0.5271          0.0057          \n",
      "25              0.5477          0.5138          0.0056          \n",
      "26              0.5354          0.4996          0.0056          \n",
      "27              0.5201          0.4841          0.0055          \n",
      "28              0.5064          0.4677          0.0056          \n",
      "29              0.4878          0.4502          0.0056          \n",
      "30              0.4774          0.4325          0.0056          \n",
      "31              0.4546          0.4147          0.0055          \n",
      "32              0.4422          0.3970          0.0055          \n",
      "33              0.4248          0.3795          0.0054          \n",
      "34              0.4096          0.3626          0.0057          \n",
      "35              0.3909          0.3462          0.0059          \n",
      "36              0.3770          0.3304          0.0062          \n",
      "37              0.3597          0.3154          0.0057          \n",
      "38              0.3453          0.3011          0.0061          \n",
      "39              0.3340          0.2877          0.0057          \n",
      "40              0.3178          0.2752          0.0058          \n",
      "41              0.3092          0.2632          0.0056          \n",
      "42              0.2902          0.2520          0.0055          \n",
      "43              0.2768          0.2415          0.0055          \n",
      "44              0.2677          0.2314          0.0057          \n",
      "45              0.2565          0.2216          0.0056          \n",
      "46              0.2446          0.2123          0.0056          \n",
      "47              0.2396          0.2033          0.0056          \n",
      "48              0.2272          0.1945          0.0053          \n",
      "49              0.2195          0.1859          0.0055          \n",
      "50              0.2091          0.1775          0.0054          \n",
      "51              0.1971          0.1692          0.0053          \n",
      "52              0.1913          0.1611          0.0056          \n",
      "53              0.1830          0.1531          0.0054          \n",
      "54              0.1756          0.1451          0.0053          \n",
      "55              0.1645          0.1374          0.0052          \n",
      "56              0.1602          0.1296          0.0054          \n",
      "57              0.1487          0.1220          0.0054          \n",
      "58              0.1353          0.1146          0.0052          \n",
      "59              0.1303          0.1074          0.0054          \n",
      "60              0.1238          0.1004          0.0055          \n",
      "61              0.1155          0.0936          0.0055          \n",
      "62              0.1115          0.0872          0.0053          \n",
      "63              0.1027          0.0810          0.0055          \n",
      "64              0.0938          0.0752          0.0053          \n",
      "65              0.0893          0.0698          0.0053          \n",
      "66              0.0828          0.0646          0.0056          \n",
      "67              0.0771          0.0600          0.0052          \n",
      "68              0.0747          0.0556          0.0055          \n",
      "69              0.0701          0.0515          0.0056          \n",
      "70              0.0642          0.0477          0.0058          \n",
      "71              0.0613          0.0443          0.0053          \n",
      "72              0.0565          0.0412          0.0055          \n",
      "73              0.0563          0.0383          0.0059          \n",
      "74              0.0554          0.0357          0.0053          \n",
      "Total Time: 0:00:00.683602\n"
     ]
    }
   ],
   "source": [
    "classifier.train(n_epochs=75)"
   ]
  },
  {
   "cell_type": "code",
   "execution_count": null,
   "metadata": {},
   "outputs": [
    {
     "data": {
      "image/png": "[encoded data removed]",
      "text/plain": [
       "<Figure size 720x288 with 1 Axes>"
      ]
     },
     "metadata": {
      "needs_background": "light"
     },
     "output_type": "display_data"
    }
   ],
   "source": [
    "fig = classifier.plot_losses()"
   ]
  },
  {
   "cell_type": "code",
   "execution_count": null,
   "metadata": {},
   "outputs": [],
   "source": [
    "classifier.save('./models/doc_classifier.model')\n",
    "dd.save('./models/doc_classifier.pipeline')"
   ]
  },
  {
   "cell_type": "code",
   "execution_count": null,
   "metadata": {},
   "outputs": [],
   "source": [
    "%run doc_wrapper.py"
   ]
  },
  {
   "cell_type": "code",
   "execution_count": null,
   "metadata": {},
   "outputs": [],
   "source": [
    "wrapper = DocWrapper()"
   ]
  },
  {
   "cell_type": "code",
   "execution_count": null,
   "metadata": {},
   "outputs": [],
   "source": [
    "artifacts = {\n",
    "    'classifier_model_path': './models/doc_classifier.model',\n",
    "    'classifier_pipeline_path': './models/doc_classifier.pipeline',\n",
    "}\n",
    "\n",
    "# this logs the model as an mlflow run\n",
    "# with mlflow.start_run() as run:\n",
    "#     mlflow.pyfunc.log_model(\n",
    "#         artifact_path=\"mlmodels\",\n",
    "#         python_model=wrapper,\n",
    "#         code_path=[\"./code\"],\n",
    "#         artifacts=artifacts\n",
    "#     )\n",
    "\n",
    "# this saves the model to the local filesystem\n",
    "mlflow.pyfunc.save_model(path=\"./mlflow_local\",\n",
    "                        python_model=wrapper,\n",
    "                        artifacts=artifacts)\n"
   ]
  },
  {
   "cell_type": "markdown",
   "metadata": {},
   "source": [
    "Now reload the model and make some test predictions."
   ]
  },
  {
   "cell_type": "code",
   "execution_count": null,
   "metadata": {},
   "outputs": [
    {
     "name": "stdout",
     "output_type": "stream",
     "text": [
      "<mlflow.pyfunc.model.PythonModelContext object at 0x7f0b3b5cb4d0>\n",
      "value\n",
      "value\n"
     ]
    },
    {
     "data": {
      "text/html": [
       "<div>\n",
       "<style scoped>\n",
       "    .dataframe tbody tr th:only-of-type {\n",
       "        vertical-align: middle;\n",
       "    }\n",
       "\n",
       "    .dataframe tbody tr th {\n",
       "        vertical-align: top;\n",
       "    }\n",
       "\n",
       "    .dataframe thead th {\n",
       "        text-align: right;\n",
       "    }\n",
       "</style>\n",
       "<table border=\"1\" class=\"dataframe\">\n",
       "  <thead>\n",
       "    <tr style=\"text-align: right;\">\n",
       "      <th></th>\n",
       "      <th>label</th>\n",
       "      <th>key</th>\n",
       "      <th>value</th>\n",
       "      <th>raw</th>\n",
       "      <th>prediction</th>\n",
       "    </tr>\n",
       "  </thead>\n",
       "  <tbody>\n",
       "    <tr>\n",
       "      <th>0</th>\n",
       "      <td>0</td>\n",
       "      <td>name</td>\n",
       "      <td>john doe</td>\n",
       "      <td>-4.683093</td>\n",
       "      <td>0</td>\n",
       "    </tr>\n",
       "    <tr>\n",
       "      <th>1</th>\n",
       "      <td>1</td>\n",
       "      <td>doc</td>\n",
       "      <td>IX138776</td>\n",
       "      <td>2.310739</td>\n",
       "      <td>1</td>\n",
       "    </tr>\n",
       "  </tbody>\n",
       "</table>\n",
       "</div>"
      ],
      "text/plain": [
       "  label   key     value       raw  prediction\n",
       "0     0  name  john doe -4.683093           0\n",
       "1     1   doc  IX138776  2.310739           1"
      ]
     },
     "execution_count": null,
     "metadata": {},
     "output_type": "execute_result"
    }
   ],
   "source": [
    "import pandas as pd\n",
    "\n",
    "loaded_model = mlflow.pyfunc.load_model(\"./mlflow_local\")\n",
    "\n",
    "data = [['0', 'name', 'john doe'],\n",
    "       ['1', 'doc', 'IX138776']]\n",
    "sample_df = pd.DataFrame(data, columns = ['label', 'key', 'value'])\n",
    "\n",
    "loaded_model.predict(sample_df)"
   ]
  }
 ],
 "metadata": {
  "kernelspec": {
   "display_name": "Python 3",
   "language": "python",
   "name": "python3"
  }
 },
 "nbformat": 4,
 "nbformat_minor": 4
}
